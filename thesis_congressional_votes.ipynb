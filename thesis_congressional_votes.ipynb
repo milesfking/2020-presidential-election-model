{
  "nbformat": 4,
  "nbformat_minor": 0,
  "metadata": {
    "colab": {
      "provenance": [],
      "authorship_tag": "ABX9TyNDSv/x+exHkEhtu6LsQ9p6",
      "include_colab_link": true
    },
    "kernelspec": {
      "name": "python3",
      "display_name": "Python 3"
    },
    "language_info": {
      "name": "python"
    }
  },
  "cells": [
    {
      "cell_type": "markdown",
      "metadata": {
        "id": "view-in-github",
        "colab_type": "text"
      },
      "source": [
        "<a href=\"https://colab.research.google.com/github/milesfking/2020-presidential-election-model/blob/main/thesis_congressional_votes.ipynb\" target=\"_parent\"><img src=\"https://colab.research.google.com/assets/colab-badge.svg\" alt=\"Open In Colab\"/></a>"
      ]
    },
    {
      "cell_type": "code",
      "execution_count": 6,
      "metadata": {
        "id": "VlPnnwwDj_13"
      },
      "outputs": [],
      "source": [
        "import requests\n",
        "\n",
        "class ProPublicaClient:\n",
        "    def __init__(self, api_key):\n",
        "        self.api_key = api_key\n",
        "        self.base_url = \"https://api.propublica.org/congress/v1\"\n",
        "\n",
        "    def get_vote(self, congress, chamber, session, roll_call):\n",
        "        endpoint = f\"{congress}/{chamber}/sessions/{session}/votes/{roll_call}.json\"\n",
        "        url = f\"{self.base_url}/{endpoint}\"\n",
        "        headers = {\"X-API-Key\": self.api_key}\n",
        "        response = requests.get(url, headers=headers)\n",
        "        return response.json(), response.status_code"
      ]
    },
    {
      "cell_type": "code",
      "source": [
        "def get_voting_record(client, congress, chamber, session, roll_call):\n",
        "    data, status_code = client.get_vote(congress, chamber, session, roll_call)\n",
        "\n",
        "    if status_code == 200:\n",
        "        # Process and output the voting data\n",
        "        print(f\"Voting Data for {congress} {chamber} Session {session} Roll Call {roll_call}:\")\n",
        "        print(data)  # or process the data as needed\n",
        "    else:\n",
        "        print(f\"Failed to fetch voting record, status code:\", status_code)"
      ],
      "metadata": {
        "id": "ZrLniNU6lA_B"
      },
      "execution_count": 7,
      "outputs": []
    },
    {
      "cell_type": "code",
      "source": [
        "if __name__ == \"__main__\":\n",
        "    api_key = \"EEYe6qPk3VBDxo4ShFSnYxxilnfjrYekTfikuSf0\"  # Replace with your actual API key\n",
        "    client = ProPublicaClient(api_key)\n",
        "\n",
        "    try:\n",
        "        # Example usage: Fetch voting record for the 115th Congress, Senate, Session 1, Roll Call 17\n",
        "        get_voting_record(client, '115', 'senate', '1', '17')\n",
        "    except Exception as err:\n",
        "        print('Error:', err)"
      ],
      "metadata": {
        "colab": {
          "base_uri": "https://localhost:8080/"
        },
        "id": "sNMZRFZRlDYz",
        "outputId": "34e62e43-f7fe-4f50-b939-fbf0df1464e7"
      },
      "execution_count": 8,
      "outputs": [
        {
          "output_type": "stream",
          "name": "stdout",
          "text": [
            "Voting Data for 115 senate Session 1 Roll Call 17:\n",
            "{'status': 'OK', 'copyright': 'Copyright (c) 2023 Pro Publica Inc. All Rights Reserved.', 'results': {'votes': {'vote': {'congress': 115, 'session': 1, 'chamber': 'Senate', 'roll_call': 17, 'source': 'https://www.senate.gov/legislative/LIS/roll_call_votes/vote1151/vote_115_1_00017.xml', 'url': 'https://www.senate.gov/legislative/LIS/roll_call_lists/roll_call_vote_cfm.cfm?congress=115&session=1&vote=00017', 'bill': {'bill_id': 'sconres3-115', 'number': 'S.CON.RES.3', 'api_uri': 'https://api.propublica.org/congress/v1/115/bills/sconres3.json', 'title': 'A concurrent resolution setting forth the congressional budget for the United States Government for fiscal year 2017 and setting forth the appropriate budgetary levels for fiscal years 2018 through 2026.', 'short_title': 'A concurrent resolution setting forth the congressional budget for the United States Government for fiscal year 2017 and setting forth the appropriate budgetary levels for fiscal years 2018 through 2026.', 'latest_action': 'Motion to reconsider laid on the table Agreed to without objection.'}, 'amendment': {'number': 'S.Amdt. 179', 'api_uri': 'https://api.propublica.org/congress/v1/115/amendments/samdt179.json', 'sponsor_id': 'H000338', 'sponsor': 'Orrin G. Hatch', 'sponsor_uri': 'https://api.propublica.org/congress/v1/members/H000338.json', 'sponsor_party': 'R', 'sponsor_state': 'UT'}, 'question': 'On the Motion', 'question_text': 'On the Motion (Motion to Waive All Applicable Budgetary Discipline Re: Hatch Amdt. No. 179)', 'description': 'To establish a deficit-neutral reserve fund relating to reforming housing and Medicaid without prioritizing able-bodied adults over the disabled or raiding the Medicare Trust Funds to pay for new government programs, like Obamacare, which has failed Americans by increasing premiums and reducing affordable health care opportunities.', 'vote_type': '3/5', 'date': '2017-01-11', 'time': '22:07:00', 'result': 'Motion Rejected', 'tie_breaker': '', 'tie_breaker_vote': '', 'document_number': '', 'document_title': '', 'democratic': {'yes': 0, 'no': 45, 'present': 0, 'not_voting': 1, 'majority_position': 'No'}, 'republican': {'yes': 51, 'no': 0, 'present': 0, 'not_voting': 1, 'majority_position': 'Yes'}, 'independent': {'yes': 0, 'no': 2, 'present': 0, 'not_voting': 0}, 'total': {'yes': 51, 'no': 47, 'present': 0, 'not_voting': 2}, 'positions': [{'member_id': 'A000360', 'name': 'Lamar Alexander', 'party': 'R', 'state': 'TN', 'vote_position': 'Yes', 'dw_nominate': 0.323}, {'member_id': 'B001230', 'name': 'Tammy Baldwin', 'party': 'D', 'state': 'WI', 'vote_position': 'No', 'dw_nominate': -0.522}, {'member_id': 'B001261', 'name': 'John Barrasso', 'party': 'R', 'state': 'WY', 'vote_position': 'Yes', 'dw_nominate': 0.534}, {'member_id': 'B001267', 'name': 'Michael Bennet', 'party': 'D', 'state': 'CO', 'vote_position': 'No', 'dw_nominate': -0.207}, {'member_id': 'B001277', 'name': 'Richard Blumenthal', 'party': 'D', 'state': 'CT', 'vote_position': 'No', 'dw_nominate': -0.417}, {'member_id': 'B000575', 'name': 'Roy Blunt', 'party': 'R', 'state': 'MO', 'vote_position': 'Yes', 'dw_nominate': 0.43}, {'member_id': 'B001288', 'name': 'Cory Booker', 'party': 'D', 'state': 'NJ', 'vote_position': 'No', 'dw_nominate': -0.612}, {'member_id': 'B001236', 'name': 'John Boozman', 'party': 'R', 'state': 'AR', 'vote_position': 'Yes', 'dw_nominate': 0.401}, {'member_id': 'B000944', 'name': 'Sherrod Brown', 'party': 'D', 'state': 'OH', 'vote_position': 'No', 'dw_nominate': -0.438}, {'member_id': 'B001135', 'name': 'Richard M. Burr', 'party': 'R', 'state': 'NC', 'vote_position': 'Yes', 'dw_nominate': 0.453}, {'member_id': 'C000127', 'name': 'Maria Cantwell', 'party': 'D', 'state': 'WA', 'vote_position': 'No', 'dw_nominate': -0.293}, {'member_id': 'C001047', 'name': 'Shelley Moore Capito', 'party': 'R', 'state': 'WV', 'vote_position': 'Yes', 'dw_nominate': 0.261}, {'member_id': 'C000141', 'name': 'Benjamin L. Cardin', 'party': 'D', 'state': 'MD', 'vote_position': 'No', 'dw_nominate': -0.327}, {'member_id': 'C000174', 'name': 'Thomas R. Carper', 'party': 'D', 'state': 'DE', 'vote_position': 'No', 'dw_nominate': -0.174}, {'member_id': 'C001070', 'name': 'Bob Casey', 'party': 'D', 'state': 'PA', 'vote_position': 'No', 'dw_nominate': -0.304}, {'member_id': 'C001075', 'name': 'Bill Cassidy', 'party': 'R', 'state': 'LA', 'vote_position': 'Yes', 'dw_nominate': 0.452}, {'member_id': 'C000567', 'name': 'Thad Cochran', 'party': 'R', 'state': 'MS', 'vote_position': 'Yes', 'dw_nominate': 0.287}, {'member_id': 'C001035', 'name': 'Susan Collins', 'party': 'R', 'state': 'ME', 'vote_position': 'Yes', 'dw_nominate': 0.111}, {'member_id': 'C001088', 'name': 'Christopher A. Coons', 'party': 'D', 'state': 'DE', 'vote_position': 'No', 'dw_nominate': -0.24}, {'member_id': 'C001071', 'name': 'Bob Corker', 'party': 'R', 'state': 'TN', 'vote_position': 'Yes', 'dw_nominate': 0.395}, {'member_id': 'C001056', 'name': 'John Cornyn', 'party': 'R', 'state': 'TX', 'vote_position': 'Yes', 'dw_nominate': 0.495}, {'member_id': 'C001113', 'name': 'Catherine Cortez Masto', 'party': 'D', 'state': 'NV', 'vote_position': 'No', 'dw_nominate': -0.395}, {'member_id': 'C001095', 'name': 'Tom Cotton', 'party': 'R', 'state': 'AR', 'vote_position': 'Yes', 'dw_nominate': 0.613}, {'member_id': 'C000880', 'name': 'Michael D. Crapo', 'party': 'R', 'state': 'ID', 'vote_position': 'Yes', 'dw_nominate': 0.509}, {'member_id': 'C001098', 'name': 'Ted Cruz', 'party': 'R', 'state': 'TX', 'vote_position': 'Yes', 'dw_nominate': 0.818}, {'member_id': 'D000618', 'name': 'Steve Daines', 'party': 'R', 'state': 'MT', 'vote_position': 'Yes', 'dw_nominate': 0.543}, {'member_id': 'D000607', 'name': 'Joe Donnelly', 'party': 'D', 'state': 'IN', 'vote_position': 'No', 'dw_nominate': -0.119}, {'member_id': 'D000622', 'name': 'Tammy Duckworth', 'party': 'D', 'state': 'IL', 'vote_position': 'No', 'dw_nominate': -0.32}, {'member_id': 'D000563', 'name': 'Richard J. Durbin', 'party': 'D', 'state': 'IL', 'vote_position': 'No', 'dw_nominate': -0.363}, {'member_id': 'E000285', 'name': 'Michael B. Enzi', 'party': 'R', 'state': 'WY', 'vote_position': 'Yes', 'dw_nominate': 0.541}, {'member_id': 'E000295', 'name': 'Joni Ernst', 'party': 'R', 'state': 'IA', 'vote_position': 'Yes', 'dw_nominate': 0.514}, {'member_id': 'F000062', 'name': 'Dianne Feinstein', 'party': 'D', 'state': 'CA', 'vote_position': 'Not Voting', 'dw_nominate': -0.27}, {'member_id': 'F000463', 'name': 'Deb Fischer', 'party': 'R', 'state': 'NE', 'vote_position': 'Yes', 'dw_nominate': 0.466}, {'member_id': 'F000444', 'name': 'Jeff Flake', 'party': 'R', 'state': 'AZ', 'vote_position': 'Yes', 'dw_nominate': 0.855}, {'member_id': 'F000457', 'name': 'Al Franken', 'party': 'D', 'state': 'MN', 'vote_position': 'No', 'dw_nominate': -0.4}, {'member_id': 'G000562', 'name': 'Cory Gardner', 'party': 'R', 'state': 'CO', 'vote_position': 'Yes', 'dw_nominate': 0.454}, {'member_id': 'G000555', 'name': 'Kirsten E. Gillibrand', 'party': 'D', 'state': 'NY', 'vote_position': 'No', 'dw_nominate': -0.412}, {'member_id': 'G000359', 'name': 'Lindsey Graham', 'party': 'R', 'state': 'SC', 'vote_position': 'Yes', 'dw_nominate': 0.408}, {'member_id': 'G000386', 'name': 'Charles E. Grassley', 'party': 'R', 'state': 'IA', 'vote_position': 'Yes', 'dw_nominate': 0.343}, {'member_id': 'H001075', 'name': 'Kamala Harris', 'party': 'D', 'state': 'CA', 'vote_position': 'No', 'dw_nominate': -0.694}, {'member_id': 'H001076', 'name': 'Margaret Hassan', 'party': 'D', 'state': 'NH', 'vote_position': 'No', 'dw_nominate': -0.258}, {'member_id': 'H000338', 'name': 'Orrin G. Hatch', 'party': 'R', 'state': 'UT', 'vote_position': 'Yes', 'dw_nominate': 0.382}, {'member_id': 'H001046', 'name': 'Martin Heinrich', 'party': 'D', 'state': 'NM', 'vote_position': 'No', 'dw_nominate': -0.303}, {'member_id': 'H001069', 'name': 'Heidi Heitkamp', 'party': 'D', 'state': 'ND', 'vote_position': 'No', 'dw_nominate': -0.122}, {'member_id': 'H001041', 'name': 'Dean Heller', 'party': 'R', 'state': 'NV', 'vote_position': 'Yes', 'dw_nominate': 0.463}, {'member_id': 'H001042', 'name': 'Mazie K. Hirono', 'party': 'D', 'state': 'HI', 'vote_position': 'No', 'dw_nominate': -0.485}, {'member_id': 'H001061', 'name': 'John Hoeven', 'party': 'R', 'state': 'ND', 'vote_position': 'Yes', 'dw_nominate': 0.341}, {'member_id': 'I000024', 'name': 'James M. Inhofe', 'party': 'R', 'state': 'OK', 'vote_position': 'Yes', 'dw_nominate': 0.552}, {'member_id': 'I000055', 'name': 'Johnny Isakson', 'party': 'R', 'state': 'GA', 'vote_position': 'Yes', 'dw_nominate': 0.403}, {'member_id': 'J000293', 'name': 'Ron Johnson', 'party': 'R', 'state': 'WI', 'vote_position': 'Yes', 'dw_nominate': 0.602}, {'member_id': 'K000384', 'name': 'Tim Kaine', 'party': 'D', 'state': 'VA', 'vote_position': 'No', 'dw_nominate': -0.235}, {'member_id': 'K000393', 'name': 'John Kennedy', 'party': 'R', 'state': 'LA', 'vote_position': 'Yes', 'dw_nominate': 0.482}, {'member_id': 'K000383', 'name': 'Angus King', 'party': 'ID', 'state': 'ME', 'vote_position': 'No', 'dw_nominate': -0.152}, {'member_id': 'K000367', 'name': 'Amy Klobuchar', 'party': 'D', 'state': 'MN', 'vote_position': 'No', 'dw_nominate': -0.247}, {'member_id': 'L000575', 'name': 'James Lankford', 'party': 'R', 'state': 'OK', 'vote_position': 'Yes', 'dw_nominate': 0.574}, {'member_id': 'L000174', 'name': 'Patrick J. Leahy', 'party': 'D', 'state': 'VT', 'vote_position': 'No', 'dw_nominate': -0.37}, {'member_id': 'L000577', 'name': 'Mike Lee', 'party': 'R', 'state': 'UT', 'vote_position': 'Yes', 'dw_nominate': 0.919}, {'member_id': 'M001183', 'name': 'Joe Manchin III', 'party': 'D', 'state': 'WV', 'vote_position': 'No', 'dw_nominate': -0.058}, {'member_id': 'M000133', 'name': 'Edward J. Markey', 'party': 'D', 'state': 'MA', 'vote_position': 'No', 'dw_nominate': -0.504}, {'member_id': 'M000303', 'name': 'John McCain', 'party': 'R', 'state': 'AZ', 'vote_position': 'Yes', 'dw_nominate': 0.381}, {'member_id': 'M001170', 'name': 'Claire McCaskill', 'party': 'D', 'state': 'MO', 'vote_position': 'No', 'dw_nominate': -0.143}, {'member_id': 'M000355', 'name': 'Mitch McConnell', 'party': 'R', 'state': 'KY', 'vote_position': 'Yes', 'dw_nominate': 0.404}, {'member_id': 'M000639', 'name': 'Robert Menendez', 'party': 'D', 'state': 'NJ', 'vote_position': 'No', 'dw_nominate': -0.364}, {'member_id': 'M001176', 'name': 'Jeff Merkley', 'party': 'D', 'state': 'OR', 'vote_position': 'No', 'dw_nominate': -0.48}, {'member_id': 'M000934', 'name': 'Jerry Moran', 'party': 'R', 'state': 'KS', 'vote_position': 'Yes', 'dw_nominate': 0.414}, {'member_id': 'M001153', 'name': 'Lisa Murkowski', 'party': 'R', 'state': 'AK', 'vote_position': 'Yes', 'dw_nominate': 0.208}, {'member_id': 'M001169', 'name': 'Christopher S. Murphy', 'party': 'D', 'state': 'CT', 'vote_position': 'No', 'dw_nominate': -0.306}, {'member_id': 'M001111', 'name': 'Patty Murray', 'party': 'D', 'state': 'WA', 'vote_position': 'No', 'dw_nominate': -0.343}, {'member_id': 'N000032', 'name': 'Bill Nelson', 'party': 'D', 'state': 'FL', 'vote_position': 'No', 'dw_nominate': -0.193}, {'member_id': 'P000603', 'name': 'Rand Paul', 'party': 'R', 'state': 'KY', 'vote_position': 'Yes', 'dw_nominate': 0.876}, {'member_id': 'P000612', 'name': 'David Perdue', 'party': 'R', 'state': 'GA', 'vote_position': 'Yes', 'dw_nominate': 0.606}, {'member_id': 'P000595', 'name': 'Gary Peters', 'party': 'D', 'state': 'MI', 'vote_position': 'No', 'dw_nominate': -0.237}, {'member_id': 'P000449', 'name': 'Rob Portman', 'party': 'R', 'state': 'OH', 'vote_position': 'Yes', 'dw_nominate': 0.374}, {'member_id': 'R000122', 'name': 'Jack Reed', 'party': 'D', 'state': 'RI', 'vote_position': 'No', 'dw_nominate': -0.38}, {'member_id': 'R000584', 'name': 'Jim Risch', 'party': 'R', 'state': 'ID', 'vote_position': 'Yes', 'dw_nominate': 0.636}, {'member_id': 'R000307', 'name': 'Pat Roberts', 'party': 'R', 'state': 'KS', 'vote_position': 'Yes', 'dw_nominate': 0.414}, {'member_id': 'R000605', 'name': 'Mike Rounds', 'party': 'R', 'state': 'SD', 'vote_position': 'Yes', 'dw_nominate': 0.392}, {'member_id': 'R000595', 'name': 'Marco Rubio', 'party': 'R', 'state': 'FL', 'vote_position': 'Yes', 'dw_nominate': 0.578}, {'member_id': 'S000033', 'name': 'Bernard Sanders', 'party': 'ID', 'state': 'VT', 'vote_position': 'No', 'dw_nominate': -0.521}, {'member_id': 'S001197', 'name': 'Ben Sasse', 'party': 'R', 'state': 'NE', 'vote_position': 'Yes', 'dw_nominate': 0.811}, {'member_id': 'S001194', 'name': 'Brian Schatz', 'party': 'D', 'state': 'HI', 'vote_position': 'No', 'dw_nominate': -0.415}, {'member_id': 'S000148', 'name': 'Charles E. Schumer', 'party': 'D', 'state': 'NY', 'vote_position': 'No', 'dw_nominate': -0.351}, {'member_id': 'S001184', 'name': 'Tim Scott', 'party': 'R', 'state': 'SC', 'vote_position': 'Yes', 'dw_nominate': 0.652}, {'member_id': 'S001141', 'name': 'Jeff Sessions', 'party': 'R', 'state': 'AL', 'vote_position': 'Not Voting', 'dw_nominate': 0.549}, {'member_id': 'S001181', 'name': 'Jeanne Shaheen', 'party': 'D', 'state': 'NH', 'vote_position': 'No', 'dw_nominate': -0.251}, {'member_id': 'S000320', 'name': 'Richard C. Shelby', 'party': 'R', 'state': 'AL', 'vote_position': 'Yes', 'dw_nominate': 0.431}, {'member_id': 'S000770', 'name': 'Debbie Stabenow', 'party': 'D', 'state': 'MI', 'vote_position': 'No', 'dw_nominate': -0.331}, {'member_id': 'S001198', 'name': 'Dan Sullivan', 'party': 'R', 'state': 'AK', 'vote_position': 'Yes', 'dw_nominate': 0.466}, {'member_id': 'T000464', 'name': 'Jon Tester', 'party': 'D', 'state': 'MT', 'vote_position': 'No', 'dw_nominate': -0.21}, {'member_id': 'T000250', 'name': 'John Thune', 'party': 'R', 'state': 'SD', 'vote_position': 'Yes', 'dw_nominate': 0.411}, {'member_id': 'T000476', 'name': 'Thom Tillis', 'party': 'R', 'state': 'NC', 'vote_position': 'Yes', 'dw_nominate': 0.424}, {'member_id': 'T000461', 'name': 'Patrick J. Toomey', 'party': 'R', 'state': 'PA', 'vote_position': 'Yes', 'dw_nominate': 0.639}, {'member_id': 'U000039', 'name': 'Tom Udall', 'party': 'D', 'state': 'NM', 'vote_position': 'No', 'dw_nominate': -0.453}, {'member_id': 'V000128', 'name': 'Chris Van Hollen', 'party': 'D', 'state': 'MD', 'vote_position': 'No', 'dw_nominate': -0.392}, {'member_id': 'W000805', 'name': 'Mark Warner', 'party': 'D', 'state': 'VA', 'vote_position': 'No', 'dw_nominate': -0.194}, {'member_id': 'W000817', 'name': 'Elizabeth Warren', 'party': 'D', 'state': 'MA', 'vote_position': 'No', 'dw_nominate': -0.757}, {'member_id': 'W000802', 'name': 'Sheldon Whitehouse', 'party': 'D', 'state': 'RI', 'vote_position': 'No', 'dw_nominate': -0.397}, {'member_id': 'W000437', 'name': 'Roger Wicker', 'party': 'R', 'state': 'MS', 'vote_position': 'Yes', 'dw_nominate': 0.377}, {'member_id': 'W000779', 'name': 'Ron Wyden', 'party': 'D', 'state': 'OR', 'vote_position': 'No', 'dw_nominate': -0.321}, {'member_id': 'Y000064', 'name': 'Todd Young', 'party': 'R', 'state': 'IN', 'vote_position': 'Yes', 'dw_nominate': 0.481}]}, 'vacant_seats': []}}}\n"
          ]
        }
      ]
    },
    {
      "cell_type": "code",
      "source": [],
      "metadata": {
        "id": "XsA5NOevlGJV"
      },
      "execution_count": null,
      "outputs": []
    }
  ]
}